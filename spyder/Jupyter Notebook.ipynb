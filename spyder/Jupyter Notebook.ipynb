{
 "cells": [
  {
   "cell_type": "code",
   "execution_count": null,
   "id": "cc1e243f",
   "metadata": {},
   "outputs": [],
   "source": [
    "#A for loop is used to generate a list of numbers as long as the condition is true. \n",
    "#The python code, as shown below, will print all integers between 1 to 10. \n",
    "#In this case, ‘i’ is the variable and we want to retrieve each i-value which is between 1 to 10.\n",
    "#the code starts checking if i is in the range 1 to 10. \n",
    "#we exclude 11 here as the range stops at the value of the last parameter minus one.\n",
    "#if i is in the range, then it will print the value i and add a space behind it. \n",
    "#The loop will continue and end once all the conditions are met, that is when i is greater than 11. \n"
   ]
  },
  {
   "cell_type": "code",
   "execution_count": 19,
   "id": "58d754ff",
   "metadata": {},
   "outputs": [
    {
     "name": "stdout",
     "output_type": "stream",
     "text": [
      "1 2 3 4 5 6 7 8 9 10 "
     ]
    }
   ],
   "source": [
    "for i in range (1,11):\n",
    "    print(i, end=\" \")\n"
   ]
  }
 ],
 "metadata": {
  "kernelspec": {
   "display_name": "Python 3",
   "language": "python",
   "name": "python3"
  },
  "language_info": {
   "codemirror_mode": {
    "name": "ipython",
    "version": 3
   },
   "file_extension": ".py",
   "mimetype": "text/x-python",
   "name": "python",
   "nbconvert_exporter": "python",
   "pygments_lexer": "ipython3",
   "version": "3.8.8"
  }
 },
 "nbformat": 4,
 "nbformat_minor": 5
}
